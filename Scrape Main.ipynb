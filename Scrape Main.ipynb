{
 "cells": [
  {
   "cell_type": "code",
   "execution_count": 1,
   "id": "b58e7443-6c44-488a-90b2-d001934a3d7b",
   "metadata": {},
   "outputs": [],
   "source": [
    "from bs4 import BeautifulSoup\n",
    "import requests\n",
    "import os\n",
    "import time\n",
    "import shutil"
   ]
  },
  {
   "cell_type": "markdown",
   "id": "742910c3-2a53-420b-b71f-316af1b03ba9",
   "metadata": {},
   "source": [
    "## Retrieve data "
   ]
  },
  {
   "cell_type": "code",
   "execution_count": 2,
   "id": "8c6ec799-ba4a-4d8c-bca5-26eb912296a9",
   "metadata": {},
   "outputs": [],
   "source": [
    "categories = ['airline-reviews', 'seat-reviews', 'lounge-reviews']"
   ]
  },
  {
   "cell_type": "code",
   "execution_count": 3,
   "id": "a57f148b-86be-4854-bae6-29287353dc48",
   "metadata": {},
   "outputs": [],
   "source": [
    "# Function to get the total number of pages\n",
    "def get_total_pages(url):\n",
    "    response = requests.get(url.format(1))\n",
    "    soup = BeautifulSoup(response.content, 'html.parser')\n",
    "    \n",
    "    # Find all <a> tags\n",
    "    pages = soup.find_all(\"a\")\n",
    "\n",
    "    # Extract page numbers into a list using .text on each link\n",
    "    page_numbers = [page.text for page in pages if page.text.isdigit()]\n",
    "    \n",
    "    # Convert the page numbers to integers\n",
    "    page_numbers = [int(page) for page in page_numbers]\n",
    "\n",
    "    # Find the largest page number\n",
    "    total_page = max(page_numbers)\n",
    "\n",
    "    return total_page"
   ]
  },
  {
   "cell_type": "code",
   "execution_count": 4,
   "id": "23ab1348-794a-4438-adb3-770d9dbcad11",
   "metadata": {},
   "outputs": [],
   "source": [
    "# Function to scrape reviews from a single page\n",
    "def get_page_review(category, page_number, page_url):\n",
    "    response = requests.get(page_url.format(page_number))\n",
    "    soup = BeautifulSoup(response.content, 'html.parser')\n",
    "    reviews = []\n",
    "    for review in reviews:\n",
    "        # Extract review title\n",
    "        title = review.find(\"h2\", class_=\"text_header\").text.strip() if review.find(\"h2\", class_=\"text_header\") else \"No Title\"\n",
    "        # Extract author name\n",
    "        author = review.find(\"span\", itemprop=\"name\").text.strip() if review.find(\"span\", itemprop=\"name\") else \"No Author\"\n",
    "        # Extract date published\n",
    "        date_published = review.find(\"meta\", itemprop=\"datePublished\")[\"content\"] if review.find(\"meta\", itemprop=\"datePublished\") else \"No Date\"\n",
    "        # Extract review body\n",
    "        review_body = review.find(\"div\", itemprop=\"reviewBody\").text.strip() if review.find(\"div\", itemprop=\"reviewBody\") else \"No Review Body\"\n",
    "        # Extract review statistics (e.g., seat comfort, cabin staff, etc.)\n",
    "        review_stats = {}\n",
    "        stats = review.find_all(\"tr\")\n",
    "        for stat in stats:\n",
    "            header = stat.find(\"td\", class_=\"review-rating-header\")\n",
    "            value = stat.find(\"td\", class_=\"review-value\") or stat.find(\"td\", class_=\"review-rating-stars stars\")\n",
    "            \n",
    "            # Extract star ratings for each category\n",
    "            if header and value:\n",
    "                category = header.text.strip()\n",
    "                #if value and value.get('class'):\n",
    "                    # If the 'value' element has a 'class' attribute, this block will execute\n",
    "                if \"stars\" in value[\"class\"]:\n",
    "                    stars = get_star_rating(value.find_all(\"span\", class_=\"star\"))  # Get star ratings\n",
    "                    review_stats[category] = stars\n",
    "                else:\n",
    "                    review_stats[category] = value.text.strip()\n",
    "            else:\n",
    "                # Handle cases where there is no class attribute in 'value'\n",
    "                review_stats[category] = \"No Class Attribute\"\n",
    "                                    \n",
    "        review_info = {\n",
    "        \"Title\": title,\n",
    "        \"Author\": author,\n",
    "        \"Date Published\": date_published,\n",
    "        \"Review Body\": review_body,\n",
    "        \"Review Stats\": review_stats}\n",
    "        \n",
    "        # Append the review data to the list\n",
    "        review_data.append(review_info)\n",
    "\n",
    "    # Convert the review data into a DataFrame\n",
    "    df = pd.DataFrame(review_data)\n",
    "\n",
    "    return df"
   ]
  },
  {
   "cell_type": "code",
   "execution_count": 5,
   "id": "d317e93e-d8a3-4cff-b96a-aff9b2b87dd4",
   "metadata": {},
   "outputs": [],
   "source": [
    "def get_star_rating(star_elements):\n",
    "    filled_star = 0\n",
    "    for star in star_elements:\n",
    "        if \"fill\" in star.get(\"class\", []):  # Check if 'fill' is in the class list\n",
    "            filled_star += 1\n",
    "    return filled_star"
   ]
  },
  {
   "cell_type": "code",
   "execution_count": 6,
   "id": "5cb7875a-8815-440b-99a0-dec48dad2587",
   "metadata": {
    "scrolled": true
   },
   "outputs": [],
   "source": [
    "for cat in categories:\n",
    "    url_start = f\"https://www.airlinequality.com/{cat}/british-airways/page/1/?sortby=post_date%3ADesc&pagesize=100\" # Get link\n",
    "    review_data = []\n",
    "    # Define highest page number\n",
    "    higest_page = get_total_pages(url_start)\n",
    "    \n",
    "    # Loop over each review page\n",
    "    for page in range(1, higest_page + 1):\n",
    "        url_page = f\"https://www.airlinequality.com/{cat}/british-airways/page/{page}/?sortby=post_date%3ADesc&pagesize=100\"\n",
    "        response = requests.get(url_page) # Request to access the link\n",
    "        time.sleep(2)\n",
    "        soup = BeautifulSoup(response.content, 'html.parser') # Converts HTML content into a navigable, searchable BeautifulSoup object structure\n",
    "        \n",
    "        #Find all review containers\n",
    "        reviews = soup.find_all(\"article\", itemprop=\"review\")\n",
    "    \n",
    "        # Loop through each review and extract the required information\n",
    "        for review in reviews:\n",
    "            # Extract review title\n",
    "            title = review.find(\"h2\", class_=\"text_header\").text.strip() if review.find(\"h2\", class_=\"text_header\") else \"No Title\"\n",
    "            # Extract author name\n",
    "            author = review.find(\"span\", itemprop=\"name\").text.strip() if review.find(\"span\", itemprop=\"name\") else \"No Author\"\n",
    "            # Extract date published\n",
    "            date_published = review.find(\"meta\", itemprop=\"datePublished\")[\"content\"] if review.find(\"meta\", itemprop=\"datePublished\") else \"No Date\"\n",
    "            # Extract review body\n",
    "            review_body = review.find(\"div\", itemprop=\"reviewBody\").text.strip() if review.find(\"div\", itemprop=\"reviewBody\") else \"No Review Body\"\n",
    "            # Extract review statistics (e.g., seat comfort, cabin staff, etc.)\n",
    "            review_stats = {}\n",
    "            stats = review.find_all(\"tr\")\n",
    "            for stat in stats:\n",
    "                header = stat.find(\"td\", class_=\"review-rating-header\")\n",
    "                value = stat.find(\"td\", class_=\"review-value\") or stat.find(\"td\", class_=\"review-rating-stars stars\")\n",
    "                \n",
    "                # Extract star ratings for each category\n",
    "                if header and value:\n",
    "                    category = header.text.strip()\n",
    "                    #if value and value.get('class'):\n",
    "                        # If the 'value' element has a 'class' attribute, this block will execute\n",
    "                    if \"stars\" in value[\"class\"]:\n",
    "                        stars = get_star_rating(value.find_all(\"span\", class_=\"star\"))  # Get star ratings\n",
    "                        review_stats[category] = stars\n",
    "                    else:\n",
    "                        review_stats[category] = value.text.strip()\n",
    "                else:\n",
    "                    # Handle cases where there is no class attribute in 'value'\n",
    "                    review_stats[category] = \"No Class Attribute\"\n",
    "                                        \n",
    "            review_info = {\n",
    "            \"Title\": title,\n",
    "            \"Author\": author,\n",
    "            \"Date Published\": date_published,\n",
    "            \"Review Body\": review_body,\n",
    "            \"Review Stats\": review_stats}\n",
    "            \n",
    "            # Append the review data to the list\n",
    "            review_data.append(review_info)\n",
    "    \n",
    "    # Convert the review data into a DataFrame\n",
    "    df = pd.DataFrame(review_data)\n",
    "    \n",
    "    # Save the data to a CSV file\n",
    "    df.to_csv(\"{}1.csv\".format(cat), index=False)"
   ]
  },
  {
   "cell_type": "code",
   "execution_count": null,
   "id": "cf0a38b5-56c5-4827-a47f-76de5670efac",
   "metadata": {},
   "outputs": [],
   "source": []
  },
  {
   "cell_type": "markdown",
   "id": "3fa95934-58a2-4c2b-b4d0-d3f9acfdf53a",
   "metadata": {},
   "source": [
    "## Read data files"
   ]
  },
  {
   "cell_type": "code",
   "execution_count": 7,
   "id": "74341288-fde7-4bef-8b47-9e00fc5144a5",
   "metadata": {},
   "outputs": [],
   "source": [
    "airline = pd.read_csv('airline-reviews.csv')"
   ]
  },
  {
   "cell_type": "code",
   "execution_count": 8,
   "id": "5f36f622-d4bf-4674-99ae-7518eba1a98a",
   "metadata": {},
   "outputs": [],
   "source": [
    "seat = pd.read_csv('seat-reviews.csv')"
   ]
  },
  {
   "cell_type": "code",
   "execution_count": 9,
   "id": "9ac6d7f0-bd03-4604-9335-da90a42c904e",
   "metadata": {},
   "outputs": [],
   "source": [
    "lounge = pd.read_csv('lounge-reviews.csv')"
   ]
  },
  {
   "cell_type": "code",
   "execution_count": 10,
   "id": "1d0ee818-356d-4f1e-838c-107e0b96bd26",
   "metadata": {},
   "outputs": [
    {
     "data": {
      "text/plain": [
       "array([\"{'Type Of Traveller': 'Family Leisure', 'Seat Type': 'Economy Class', 'Route': 'Larnaca to Glasgow via Heathrow', 'Date Flown': 'November 2024', 'Seat Comfort': 1, 'Cabin Staff Service': 1, 'Food & Beverages': 1, 'Inflight Entertainment': 2, 'Ground Service': 1, 'Value For Money': 1, 'Recommended': 'no'}\",\n",
       "       \"{'Type Of Traveller': 'Couple Leisure', 'Seat Type': 'Economy Class', 'Route': 'London to Rome', 'Date Flown': 'December 2024', 'Seat Comfort': 2, 'Cabin Staff Service': 4, 'Ground Service': 1, 'Value For Money': 2, 'Recommended': 'no'}\",\n",
       "       \"{'Aircraft': 'Boeing 777 / A350', 'Type Of Traveller': 'Business', 'Seat Type': 'Business Class', 'Route': 'Washington to London', 'Date Flown': 'December 2024', 'Seat Comfort': 4, 'Cabin Staff Service': 3, 'Food & Beverages': 1, 'Inflight Entertainment': 5, 'Ground Service': 1, 'Wifi & Connectivity': 4, 'Value For Money': 1, 'Recommended': 'no'}\",\n",
       "       ...,\n",
       "       \"{'Seat Type': 'Economy Class', 'Value For Money': 4, 'Recommended': 'yes'}\",\n",
       "       \"{'Seat Type': 'Premium Economy', 'Seat Comfort': 1, 'Cabin Staff Service': 3, 'Food & Beverages': 5, 'Inflight Entertainment': 0, 'Value For Money': 1, 'Recommended': 'no'}\",\n",
       "       \"{'Seat Type': 'First Class', 'Seat Comfort': 4, 'Cabin Staff Service': 5, 'Food & Beverages': 5, 'Inflight Entertainment': 2, 'Value For Money': 2, 'Recommended': 'no'}\"],\n",
       "      dtype=object)"
      ]
     },
     "execution_count": 10,
     "metadata": {},
     "output_type": "execute_result"
    }
   ],
   "source": [
    "airline['Review Stats'].values"
   ]
  },
  {
   "cell_type": "code",
   "execution_count": null,
   "id": "810ff284-4183-404a-9522-7e40c0349a27",
   "metadata": {},
   "outputs": [],
   "source": []
  },
  {
   "cell_type": "code",
   "execution_count": 11,
   "id": "79028966-6c34-4085-86cc-b42994bd5605",
   "metadata": {},
   "outputs": [],
   "source": [
    "import ast"
   ]
  },
  {
   "cell_type": "markdown",
   "id": "26401c31-a18a-465e-9d9d-61cece750a9b",
   "metadata": {},
   "source": [
    "## Data cleaning"
   ]
  },
  {
   "cell_type": "code",
   "execution_count": 12,
   "id": "0960272c-2540-4839-81ae-681011a18373",
   "metadata": {},
   "outputs": [],
   "source": [
    "def expand_review_stats(df):\n",
    "    parsed_data = [ast.literal_eval(entry) for entry in df['Review Stats']]\n",
    "    new_df = pd.json_normalize(parsed_data)\n",
    "    return pd.concat([df, new_df], axis=1)"
   ]
  },
  {
   "cell_type": "code",
   "execution_count": 13,
   "id": "00169551-9191-42a8-988c-2b2259a9b308",
   "metadata": {},
   "outputs": [],
   "source": [
    "airline = expand_review_stats(airline)"
   ]
  },
  {
   "cell_type": "code",
   "execution_count": 14,
   "id": "72790ae1-8815-404b-a20f-ca4074f6c8b4",
   "metadata": {},
   "outputs": [],
   "source": [
    "seat = expand_review_stats(seat)"
   ]
  },
  {
   "cell_type": "code",
   "execution_count": 15,
   "id": "2c30a638-0d05-44bf-aee8-bae858f0797d",
   "metadata": {},
   "outputs": [],
   "source": [
    "lounge = expand_review_stats(lounge)"
   ]
  },
  {
   "cell_type": "code",
   "execution_count": 16,
   "id": "464a145f-34f5-4bce-85b6-e8c5be84fc7b",
   "metadata": {},
   "outputs": [
    {
     "name": "stdout",
     "output_type": "stream",
     "text": [
      "<class 'pandas.core.frame.DataFrame'>\n",
      "RangeIndex: 3903 entries, 0 to 3902\n",
      "Data columns (total 18 columns):\n",
      " #   Column                  Non-Null Count  Dtype  \n",
      "---  ------                  --------------  -----  \n",
      " 0   Title                   3903 non-null   object \n",
      " 1   Author                  3903 non-null   object \n",
      " 2   Date Published          3903 non-null   object \n",
      " 3   Review Body             3903 non-null   object \n",
      " 4   Review Stats            3903 non-null   object \n",
      " 5   Type Of Traveller       3132 non-null   object \n",
      " 6   Seat Type               3901 non-null   object \n",
      " 7   Route                   3127 non-null   object \n",
      " 8   Date Flown              3125 non-null   object \n",
      " 9   Seat Comfort            3777 non-null   float64\n",
      " 10  Cabin Staff Service     3762 non-null   float64\n",
      " 11  Food & Beverages        3468 non-null   float64\n",
      " 12  Inflight Entertainment  2668 non-null   float64\n",
      " 13  Ground Service          3053 non-null   float64\n",
      " 14  Value For Money         3903 non-null   int64  \n",
      " 15  Recommended             3903 non-null   object \n",
      " 16  Aircraft                2033 non-null   object \n",
      " 17  Wifi & Connectivity     686 non-null    float64\n",
      "dtypes: float64(6), int64(1), object(11)\n",
      "memory usage: 549.0+ KB\n"
     ]
    }
   ],
   "source": [
    "airline.info()"
   ]
  },
  {
   "cell_type": "code",
   "execution_count": 17,
   "id": "35453161-2d38-44f0-b99f-06e186020f1e",
   "metadata": {},
   "outputs": [
    {
     "name": "stdout",
     "output_type": "stream",
     "text": [
      "<class 'pandas.core.frame.DataFrame'>\n",
      "RangeIndex: 200 entries, 0 to 199\n",
      "Data columns (total 23 columns):\n",
      " #   Column             Non-Null Count  Dtype  \n",
      "---  ------             --------------  -----  \n",
      " 0   Title              200 non-null    object \n",
      " 1   Author             200 non-null    object \n",
      " 2   Date Published     200 non-null    object \n",
      " 3   Review Body        200 non-null    object \n",
      " 4   Review Stats       200 non-null    object \n",
      " 5   Seat Type          200 non-null    object \n",
      " 6   Aircraft Type      200 non-null    object \n",
      " 7   Seat Layout        200 non-null    object \n",
      " 8   Date Flown         123 non-null    object \n",
      " 9   Type Of Traveller  123 non-null    object \n",
      " 10  Seat Legroom       190 non-null    float64\n",
      " 11  Seat Recline       190 non-null    float64\n",
      " 12  Seat Width         190 non-null    float64\n",
      " 13  Aisle Space        190 non-null    float64\n",
      " 14  Viewing Tv Screen  164 non-null    float64\n",
      " 15  Power Supply       61 non-null     float64\n",
      " 16  Seat Storage       122 non-null    float64\n",
      " 17  Recommended        200 non-null    object \n",
      " 18  Sleep Comfort      10 non-null     float64\n",
      " 19  Sitting Comfort    10 non-null     float64\n",
      " 20  Seat/bed Width     10 non-null     float64\n",
      " 21  Seat/bed Length    10 non-null     float64\n",
      " 22  Seat Privacy       10 non-null     float64\n",
      "dtypes: float64(12), object(11)\n",
      "memory usage: 36.1+ KB\n"
     ]
    }
   ],
   "source": [
    "seat.info()"
   ]
  },
  {
   "cell_type": "code",
   "execution_count": null,
   "id": "8f538ee1-deac-4178-a9c7-91d88defade0",
   "metadata": {},
   "outputs": [],
   "source": []
  },
  {
   "cell_type": "code",
   "execution_count": 18,
   "id": "01dcd9cc-6a88-4164-b9e9-80c91c27db77",
   "metadata": {},
   "outputs": [
    {
     "name": "stdout",
     "output_type": "stream",
     "text": [
      "<class 'pandas.core.frame.DataFrame'>\n",
      "RangeIndex: 421 entries, 0 to 420\n",
      "Data columns (total 18 columns):\n",
      " #   Column             Non-Null Count  Dtype  \n",
      "---  ------             --------------  -----  \n",
      " 0   Title              421 non-null    object \n",
      " 1   Author             421 non-null    object \n",
      " 2   Date Published     421 non-null    object \n",
      " 3   Review Body        421 non-null    object \n",
      " 4   Review Stats       421 non-null    object \n",
      " 5   Lounge Name        270 non-null    object \n",
      " 6   Airport            416 non-null    object \n",
      " 7   Type Of Lounge     393 non-null    object \n",
      " 8   Date Visit         188 non-null    object \n",
      " 9   Type Of Traveller  290 non-null    object \n",
      " 10  Comfort            419 non-null    float64\n",
      " 11  Cleanliness        419 non-null    float64\n",
      " 12  Bar & Beverages    409 non-null    float64\n",
      " 13  Catering           412 non-null    float64\n",
      " 14  Washrooms          367 non-null    float64\n",
      " 15  Staff Service      405 non-null    float64\n",
      " 16  Recommended        421 non-null    object \n",
      " 17  Wifi Connectivity  373 non-null    float64\n",
      "dtypes: float64(7), object(11)\n",
      "memory usage: 59.3+ KB\n"
     ]
    }
   ],
   "source": [
    "lounge.info()"
   ]
  },
  {
   "cell_type": "code",
   "execution_count": 19,
   "id": "36ead464-2df7-4217-baf5-fe0dd12d16c9",
   "metadata": {},
   "outputs": [],
   "source": [
    "# Remove NA entries\n",
    "airline = airline.dropna(subset=['Type Of Traveller', 'Seat Comfort', 'Cabin Staff Service', 'Food & Beverages', 'Inflight Entertainment', 'Ground Service'], inplace=True)\n",
    "seat = seat.dropna(subset=['Type Of Traveller', 'Seat Legroom', 'Seat Width'], inplace=True)\n",
    "lounge = lounge.dropna(subset=['Type Of Lounge', 'Type Of Traveller', 'Comfort', 'Cleanliness', 'Catering', 'Wifi Connectivity', 'Staff Service'], inplace=True)"
   ]
  },
  {
   "cell_type": "code",
   "execution_count": 21,
   "id": "e6e7ec9a-1e6c-4fb8-91fa-d27e44687374",
   "metadata": {},
   "outputs": [],
   "source": [
    "airline"
   ]
  },
  {
   "cell_type": "code",
   "execution_count": null,
   "id": "a4c21d4a-4421-4527-ad5a-c3a34fc5c7d5",
   "metadata": {},
   "outputs": [],
   "source": []
  }
 ],
 "metadata": {
  "kernelspec": {
   "display_name": "Python (datascience)",
   "language": "python",
   "name": "datascience"
  },
  "language_info": {
   "codemirror_mode": {
    "name": "ipython",
    "version": 3
   },
   "file_extension": ".py",
   "mimetype": "text/x-python",
   "name": "python",
   "nbconvert_exporter": "python",
   "pygments_lexer": "ipython3",
   "version": "3.12.8"
  }
 },
 "nbformat": 4,
 "nbformat_minor": 5
}
