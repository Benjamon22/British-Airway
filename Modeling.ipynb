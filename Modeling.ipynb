{
 "cells": [
  {
   "cell_type": "code",
   "execution_count": 467,
   "id": "f242bf2b-c9cb-4224-80dc-8a40a0381476",
   "metadata": {},
   "outputs": [],
   "source": [
    "import pandas as pd\n",
    "import matplotlib.pyplot as plt\n",
    "import seaborn as sns\n",
    "import chardet\n",
    "from sklearn.feature_selection import mutual_info_classif\n",
    "from sklearn.model_selection import train_test_split\n",
    "from sklearn.ensemble import RandomForestClassifier\n",
    "from sklearn.metrics import classification_report, accuracy_score\n",
    "from sklearn.metrics import confusion_matrix\n",
    "from sklearn.metrics import roc_auc_score\n",
    "from sklearn.model_selection import cross_val_score\n",
    "from imblearn.ensemble import BalancedRandomForestClassifier\n",
    "from imblearn.over_sampling import SMOTE\n",
    "import xgboost as xgb"
   ]
  },
  {
   "cell_type": "code",
   "execution_count": 323,
   "id": "889a0143-2263-4b07-abd9-464c3c8a9467",
   "metadata": {},
   "outputs": [
    {
     "data": {
      "text/plain": [
       "{'encoding': 'ISO-8859-1', 'confidence': 0.73, 'language': ''}"
      ]
     },
     "execution_count": 323,
     "metadata": {},
     "output_type": "execute_result"
    }
   ],
   "source": [
    "# Detect file encoding\n",
    "with open('/Users/huyguy/Documents/Documents - Huy’s MacBook Pro/Projects/Forage/British Airline//Data/customer_booking.csv', 'rb') as f:\n",
    "    result = chardet.detect(f.read())\n",
    "result"
   ]
  },
  {
   "cell_type": "code",
   "execution_count": 324,
   "id": "dec4e01f-a4f9-43b6-ba29-7d3c573c120a",
   "metadata": {},
   "outputs": [],
   "source": [
    "booking = pd.read_csv('/Users/huyguy/Documents/Documents - Huy’s MacBook Pro/Projects/Forage/British Airline/Data/customer_booking.csv', encoding='ISO-8859-1')"
   ]
  },
  {
   "cell_type": "markdown",
   "id": "781e4541-f630-4c75-86da-cd7e6f536dd4",
   "metadata": {},
   "source": [
    "- `num_passengers` = number of passengers travelling\n",
    "- `sales_channel` = sales channel booking was made on\n",
    "- `trip_type` = trip Type (Round Trip, One Way, Circle Trip)\n",
    "- `purchase_lead` = number of days between travel date and booking date\n",
    "- `length_of_stay` = number of days spent at destination\n",
    "- `flight_hour` = hour of flight departure\n",
    "- `flight_day` = day of week of flight departure\n",
    "- `route` = origin -> destination flight route\n",
    "- `booking_origin` = country from where booking was made\n",
    "- `wants_extra_baggage` = if the customer wanted extra baggage in the booking\n",
    "- `wants_preferred_seat` = if the customer wanted a preferred seat in the booking\n",
    "- `wants_in_flight_meals` = if the customer wanted in-flight meals in the booking\n",
    "- `flight_duration` = total duration of flight (in hours)\n",
    "- `booking_complete` = flag indicating if the customer completed the booking\n"
   ]
  },
  {
   "cell_type": "code",
   "execution_count": 325,
   "id": "5e86d0bd-6959-494b-8043-94b2ee757334",
   "metadata": {},
   "outputs": [
    {
     "name": "stdout",
     "output_type": "stream",
     "text": [
      "<class 'pandas.core.frame.DataFrame'>\n",
      "RangeIndex: 50000 entries, 0 to 49999\n",
      "Data columns (total 14 columns):\n",
      " #   Column                 Non-Null Count  Dtype  \n",
      "---  ------                 --------------  -----  \n",
      " 0   num_passengers         50000 non-null  int64  \n",
      " 1   sales_channel          50000 non-null  object \n",
      " 2   trip_type              50000 non-null  object \n",
      " 3   purchase_lead          50000 non-null  int64  \n",
      " 4   length_of_stay         50000 non-null  int64  \n",
      " 5   flight_hour            50000 non-null  int64  \n",
      " 6   flight_day             50000 non-null  object \n",
      " 7   route                  50000 non-null  object \n",
      " 8   booking_origin         50000 non-null  object \n",
      " 9   wants_extra_baggage    50000 non-null  int64  \n",
      " 10  wants_preferred_seat   50000 non-null  int64  \n",
      " 11  wants_in_flight_meals  50000 non-null  int64  \n",
      " 12  flight_duration        50000 non-null  float64\n",
      " 13  booking_complete       50000 non-null  int64  \n",
      "dtypes: float64(1), int64(8), object(5)\n",
      "memory usage: 5.3+ MB\n"
     ]
    }
   ],
   "source": [
    "booking.info()"
   ]
  },
  {
   "cell_type": "code",
   "execution_count": 326,
   "id": "90149aa7-5892-459e-8d2b-97d3b2bd1279",
   "metadata": {},
   "outputs": [],
   "source": [
    "mapping = {\n",
    "    \"Mon\": 1,\n",
    "    \"Tue\": 2,\n",
    "    \"Wed\": 3,\n",
    "    \"Thu\": 4,\n",
    "    \"Fri\": 5,\n",
    "    \"Sat\": 6,\n",
    "    \"Sun\": 7,\n",
    "}\n",
    "\n",
    "booking[\"flight_day\"] = booking[\"flight_day\"].map(mapping)"
   ]
  },
  {
   "cell_type": "code",
   "execution_count": 327,
   "id": "fdf47053-797e-4d65-9016-1f8a72eff5ae",
   "metadata": {
    "scrolled": true
   },
   "outputs": [
    {
     "data": {
      "text/plain": [
       "booking_complete\n",
       "0    42522\n",
       "1     7478\n",
       "Name: count, dtype: int64"
      ]
     },
     "execution_count": 327,
     "metadata": {},
     "output_type": "execute_result"
    }
   ],
   "source": [
    "booking.booking_complete.value_counts()"
   ]
  },
  {
   "cell_type": "code",
   "execution_count": 328,
   "id": "ee226dd0-b006-452d-80b8-a4b7c481e33b",
   "metadata": {},
   "outputs": [
    {
     "data": {
      "text/html": [
       "<div>\n",
       "<style scoped>\n",
       "    .dataframe tbody tr th:only-of-type {\n",
       "        vertical-align: middle;\n",
       "    }\n",
       "\n",
       "    .dataframe tbody tr th {\n",
       "        vertical-align: top;\n",
       "    }\n",
       "\n",
       "    .dataframe thead th {\n",
       "        text-align: right;\n",
       "    }\n",
       "</style>\n",
       "<table border=\"1\" class=\"dataframe\">\n",
       "  <thead>\n",
       "    <tr style=\"text-align: right;\">\n",
       "      <th></th>\n",
       "      <th>num_passengers</th>\n",
       "      <th>purchase_lead</th>\n",
       "      <th>length_of_stay</th>\n",
       "      <th>flight_hour</th>\n",
       "      <th>flight_day</th>\n",
       "      <th>wants_extra_baggage</th>\n",
       "      <th>wants_preferred_seat</th>\n",
       "      <th>wants_in_flight_meals</th>\n",
       "      <th>flight_duration</th>\n",
       "      <th>booking_complete</th>\n",
       "    </tr>\n",
       "  </thead>\n",
       "  <tbody>\n",
       "    <tr>\n",
       "      <th>count</th>\n",
       "      <td>50000.000000</td>\n",
       "      <td>50000.000000</td>\n",
       "      <td>50000.00000</td>\n",
       "      <td>50000.00000</td>\n",
       "      <td>50000.000000</td>\n",
       "      <td>50000.000000</td>\n",
       "      <td>50000.000000</td>\n",
       "      <td>50000.000000</td>\n",
       "      <td>50000.000000</td>\n",
       "      <td>50000.000000</td>\n",
       "    </tr>\n",
       "    <tr>\n",
       "      <th>mean</th>\n",
       "      <td>1.591240</td>\n",
       "      <td>84.940480</td>\n",
       "      <td>23.04456</td>\n",
       "      <td>9.06634</td>\n",
       "      <td>3.814420</td>\n",
       "      <td>0.668780</td>\n",
       "      <td>0.296960</td>\n",
       "      <td>0.427140</td>\n",
       "      <td>7.277561</td>\n",
       "      <td>0.149560</td>\n",
       "    </tr>\n",
       "    <tr>\n",
       "      <th>std</th>\n",
       "      <td>1.020165</td>\n",
       "      <td>90.451378</td>\n",
       "      <td>33.88767</td>\n",
       "      <td>5.41266</td>\n",
       "      <td>1.992792</td>\n",
       "      <td>0.470657</td>\n",
       "      <td>0.456923</td>\n",
       "      <td>0.494668</td>\n",
       "      <td>1.496863</td>\n",
       "      <td>0.356643</td>\n",
       "    </tr>\n",
       "    <tr>\n",
       "      <th>min</th>\n",
       "      <td>1.000000</td>\n",
       "      <td>0.000000</td>\n",
       "      <td>0.00000</td>\n",
       "      <td>0.00000</td>\n",
       "      <td>1.000000</td>\n",
       "      <td>0.000000</td>\n",
       "      <td>0.000000</td>\n",
       "      <td>0.000000</td>\n",
       "      <td>4.670000</td>\n",
       "      <td>0.000000</td>\n",
       "    </tr>\n",
       "    <tr>\n",
       "      <th>25%</th>\n",
       "      <td>1.000000</td>\n",
       "      <td>21.000000</td>\n",
       "      <td>5.00000</td>\n",
       "      <td>5.00000</td>\n",
       "      <td>2.000000</td>\n",
       "      <td>0.000000</td>\n",
       "      <td>0.000000</td>\n",
       "      <td>0.000000</td>\n",
       "      <td>5.620000</td>\n",
       "      <td>0.000000</td>\n",
       "    </tr>\n",
       "    <tr>\n",
       "      <th>50%</th>\n",
       "      <td>1.000000</td>\n",
       "      <td>51.000000</td>\n",
       "      <td>17.00000</td>\n",
       "      <td>9.00000</td>\n",
       "      <td>4.000000</td>\n",
       "      <td>1.000000</td>\n",
       "      <td>0.000000</td>\n",
       "      <td>0.000000</td>\n",
       "      <td>7.570000</td>\n",
       "      <td>0.000000</td>\n",
       "    </tr>\n",
       "    <tr>\n",
       "      <th>75%</th>\n",
       "      <td>2.000000</td>\n",
       "      <td>115.000000</td>\n",
       "      <td>28.00000</td>\n",
       "      <td>13.00000</td>\n",
       "      <td>5.000000</td>\n",
       "      <td>1.000000</td>\n",
       "      <td>1.000000</td>\n",
       "      <td>1.000000</td>\n",
       "      <td>8.830000</td>\n",
       "      <td>0.000000</td>\n",
       "    </tr>\n",
       "    <tr>\n",
       "      <th>max</th>\n",
       "      <td>9.000000</td>\n",
       "      <td>867.000000</td>\n",
       "      <td>778.00000</td>\n",
       "      <td>23.00000</td>\n",
       "      <td>7.000000</td>\n",
       "      <td>1.000000</td>\n",
       "      <td>1.000000</td>\n",
       "      <td>1.000000</td>\n",
       "      <td>9.500000</td>\n",
       "      <td>1.000000</td>\n",
       "    </tr>\n",
       "  </tbody>\n",
       "</table>\n",
       "</div>"
      ],
      "text/plain": [
       "       num_passengers  purchase_lead  length_of_stay  flight_hour  \\\n",
       "count    50000.000000   50000.000000     50000.00000  50000.00000   \n",
       "mean         1.591240      84.940480        23.04456      9.06634   \n",
       "std          1.020165      90.451378        33.88767      5.41266   \n",
       "min          1.000000       0.000000         0.00000      0.00000   \n",
       "25%          1.000000      21.000000         5.00000      5.00000   \n",
       "50%          1.000000      51.000000        17.00000      9.00000   \n",
       "75%          2.000000     115.000000        28.00000     13.00000   \n",
       "max          9.000000     867.000000       778.00000     23.00000   \n",
       "\n",
       "         flight_day  wants_extra_baggage  wants_preferred_seat  \\\n",
       "count  50000.000000         50000.000000          50000.000000   \n",
       "mean       3.814420             0.668780              0.296960   \n",
       "std        1.992792             0.470657              0.456923   \n",
       "min        1.000000             0.000000              0.000000   \n",
       "25%        2.000000             0.000000              0.000000   \n",
       "50%        4.000000             1.000000              0.000000   \n",
       "75%        5.000000             1.000000              1.000000   \n",
       "max        7.000000             1.000000              1.000000   \n",
       "\n",
       "       wants_in_flight_meals  flight_duration  booking_complete  \n",
       "count           50000.000000     50000.000000      50000.000000  \n",
       "mean                0.427140         7.277561          0.149560  \n",
       "std                 0.494668         1.496863          0.356643  \n",
       "min                 0.000000         4.670000          0.000000  \n",
       "25%                 0.000000         5.620000          0.000000  \n",
       "50%                 0.000000         7.570000          0.000000  \n",
       "75%                 1.000000         8.830000          0.000000  \n",
       "max                 1.000000         9.500000          1.000000  "
      ]
     },
     "execution_count": 328,
     "metadata": {},
     "output_type": "execute_result"
    }
   ],
   "source": [
    "booking.describe()"
   ]
  },
  {
   "cell_type": "code",
   "execution_count": 329,
   "id": "73221bab-0445-49a8-b0fe-d18514c5d1fd",
   "metadata": {},
   "outputs": [],
   "source": [
    "# Convert flight_day to int\n",
    "booking.flight_day = booking.flight_day.astype('int')"
   ]
  },
  {
   "cell_type": "code",
   "execution_count": 330,
   "id": "8074d84d-8e67-4d73-b02b-53e362612aaf",
   "metadata": {},
   "outputs": [],
   "source": [
    "# Apply one-hot encoding\n",
    "booking = pd.get_dummies(booking, columns=['sales_channel', 'route', 'trip_type', 'booking_origin']) #No need drop first, model can handle correlated features"
   ]
  },
  {
   "cell_type": "markdown",
   "id": "27d94483-71b4-44e5-9984-0b16d4a1874d",
   "metadata": {},
   "source": [
    "### Features and datasets for modeling"
   ]
  },
  {
   "cell_type": "code",
   "execution_count": 331,
   "id": "fc15337e-0c7b-4e5c-90cb-db9753cee876",
   "metadata": {
    "scrolled": true
   },
   "outputs": [],
   "source": [
    "X = booking.drop('booking_complete', axis = 1)\n",
    "y = booking.booking_complete\n",
    "# Compute mutual information\n",
    "mi = mutual_info_classif(X, y)\n",
    "mi_df = pd.DataFrame({'feature': X.columns, 'mi': mi})\n",
    "# Get top 20 highest mutual information score features\n",
    "mi_df_20 = mi_df.sort_values(ascending=False, by = 'mi').head(20)"
   ]
  },
  {
   "cell_type": "code",
   "execution_count": 332,
   "id": "144ae78d-d2ba-4499-9855-297bf1558b57",
   "metadata": {},
   "outputs": [],
   "source": [
    "# no_booking = booking[booking['Outcome'] == 1]\n",
    "# yes_booking = booking[booking['Outcome'] == 0]\n",
    "# undersampled_normal_data = resample(yes_booking,\n",
    "#                                     n_samples=len(no_booking),  # Match the number of not booking\n",
    "#                                     random_state=1234,  \n",
    "#                                     replace=False)  # No replacement, to get an equal number"
   ]
  },
  {
   "cell_type": "markdown",
   "id": "e6eba0ec-5836-4865-b506-abab98b97a69",
   "metadata": {},
   "source": [
    "### Model 1 : Random forest classifier with top 20 features (Unbalanced)"
   ]
  },
  {
   "cell_type": "code",
   "execution_count": 333,
   "id": "7c2a52bc-5d66-4d47-aacb-4b1431bf66ec",
   "metadata": {},
   "outputs": [],
   "source": [
    "X_train, X_test, y_train, y_test = train_test_split(X, y, test_size=0.2, random_state=2202)"
   ]
  },
  {
   "cell_type": "code",
   "execution_count": 334,
   "id": "abcf3f3e-711d-4c41-a5a0-8f88e380d3a8",
   "metadata": {
    "scrolled": true
   },
   "outputs": [],
   "source": [
    "# Modeling features\n",
    "features = list(mi_df_20.feature.values)\n",
    "# Random forest classifer\n",
    "rf_20 = RandomForestClassifier(n_estimators = 100, random_state= 2202)\n",
    "rf_20.fit(X_train[features], y_train)\n",
    "y_pred = rf_20.predict(X_test[features])"
   ]
  },
  {
   "cell_type": "code",
   "execution_count": 335,
   "id": "4b428756-db38-4613-9874-31ef215ed41f",
   "metadata": {},
   "outputs": [
    {
     "data": {
      "text/plain": [
       "0.829"
      ]
     },
     "execution_count": 335,
     "metadata": {},
     "output_type": "execute_result"
    }
   ],
   "source": [
    "# Accuracy\n",
    "rf_20_accuracy = accuracy_score(y_test, y_pred)\n",
    "rf_20_accuracy"
   ]
  },
  {
   "cell_type": "code",
   "execution_count": 336,
   "id": "18a7cb29-5c21-4dc1-baaa-1135e3e6a3af",
   "metadata": {},
   "outputs": [
    {
     "data": {
      "text/plain": [
       "0.8217000000000001"
      ]
     },
     "execution_count": 336,
     "metadata": {},
     "output_type": "execute_result"
    }
   ],
   "source": [
    "# Perform 5-fold cross-validation\n",
    "rf_20_cv_scores = cross_val_score(rf_20, X_train[features], y_train, cv=5, scoring='accuracy')\n",
    "rf_20_cv_scores.mean()"
   ]
  },
  {
   "cell_type": "code",
   "execution_count": 337,
   "id": "fa700796-e6f8-4776-a64f-cbbe2b3de19b",
   "metadata": {},
   "outputs": [
    {
     "data": {
      "text/plain": [
       "0.6798730533713375"
      ]
     },
     "execution_count": 337,
     "metadata": {},
     "output_type": "execute_result"
    }
   ],
   "source": [
    "# Trade-off between true positive rate (recall) and false positive rate\n",
    "rf_20_roc_auc = roc_auc_score(y_test, rf_20.predict_proba(X_test[features])[:, 1])\n",
    "rf_20_roc_auc"
   ]
  },
  {
   "cell_type": "code",
   "execution_count": 338,
   "id": "90534ed4-599b-43be-870c-91387fb3f0e8",
   "metadata": {},
   "outputs": [
    {
     "data": {
      "text/html": [
       "<div>\n",
       "<style scoped>\n",
       "    .dataframe tbody tr th:only-of-type {\n",
       "        vertical-align: middle;\n",
       "    }\n",
       "\n",
       "    .dataframe tbody tr th {\n",
       "        vertical-align: top;\n",
       "    }\n",
       "\n",
       "    .dataframe thead th {\n",
       "        text-align: right;\n",
       "    }\n",
       "</style>\n",
       "<table border=\"1\" class=\"dataframe\">\n",
       "  <thead>\n",
       "    <tr style=\"text-align: right;\">\n",
       "      <th></th>\n",
       "      <th>precision</th>\n",
       "      <th>recall</th>\n",
       "      <th>f1-score</th>\n",
       "      <th>support</th>\n",
       "    </tr>\n",
       "  </thead>\n",
       "  <tbody>\n",
       "    <tr>\n",
       "      <th>0</th>\n",
       "      <td>0.871909</td>\n",
       "      <td>0.937463</td>\n",
       "      <td>0.903499</td>\n",
       "      <td>8539.000</td>\n",
       "    </tr>\n",
       "    <tr>\n",
       "      <th>1</th>\n",
       "      <td>0.347985</td>\n",
       "      <td>0.195072</td>\n",
       "      <td>0.250000</td>\n",
       "      <td>1461.000</td>\n",
       "    </tr>\n",
       "    <tr>\n",
       "      <th>accuracy</th>\n",
       "      <td>0.829000</td>\n",
       "      <td>0.829000</td>\n",
       "      <td>0.829000</td>\n",
       "      <td>0.829</td>\n",
       "    </tr>\n",
       "    <tr>\n",
       "      <th>macro avg</th>\n",
       "      <td>0.609947</td>\n",
       "      <td>0.566268</td>\n",
       "      <td>0.576749</td>\n",
       "      <td>10000.000</td>\n",
       "    </tr>\n",
       "    <tr>\n",
       "      <th>weighted avg</th>\n",
       "      <td>0.795364</td>\n",
       "      <td>0.829000</td>\n",
       "      <td>0.808023</td>\n",
       "      <td>10000.000</td>\n",
       "    </tr>\n",
       "  </tbody>\n",
       "</table>\n",
       "</div>"
      ],
      "text/plain": [
       "              precision    recall  f1-score    support\n",
       "0              0.871909  0.937463  0.903499   8539.000\n",
       "1              0.347985  0.195072  0.250000   1461.000\n",
       "accuracy       0.829000  0.829000  0.829000      0.829\n",
       "macro avg      0.609947  0.566268  0.576749  10000.000\n",
       "weighted avg   0.795364  0.829000  0.808023  10000.000"
      ]
     },
     "execution_count": 338,
     "metadata": {},
     "output_type": "execute_result"
    }
   ],
   "source": [
    "rf_20_report = classification_report(y_test, y_pred, output_dict=True) # Return dict to transform into dataframe\n",
    "rf_20_report = pd.DataFrame(rf_20_report).T\n",
    "rf_20_report"
   ]
  },
  {
   "cell_type": "markdown",
   "id": "88fc2b9d-efe4-4011-a88a-600071b39618",
   "metadata": {},
   "source": [
    "### Model 2 : Random forest classifier with all features (Unbalanced)"
   ]
  },
  {
   "cell_type": "code",
   "execution_count": null,
   "id": "76581d2d-04af-41eb-acfa-ae84cde75053",
   "metadata": {},
   "outputs": [],
   "source": []
  },
  {
   "cell_type": "code",
   "execution_count": 339,
   "id": "d345975f-d30c-4261-a1d8-0381f356023d",
   "metadata": {},
   "outputs": [],
   "source": [
    "X_train, X_test, y_train, y_test = train_test_split(X, y, test_size=0.2, random_state=2202)"
   ]
  },
  {
   "cell_type": "code",
   "execution_count": 340,
   "id": "e5eb8279-4f6b-4f2d-88a2-1558add95f81",
   "metadata": {},
   "outputs": [],
   "source": [
    "# Random forest classifer\n",
    "rf = RandomForestClassifier(n_estimators = 100, random_state= 2202)\n",
    "rf.fit(X_train, y_train)\n",
    "y_pred = rf.predict(X_test)"
   ]
  },
  {
   "cell_type": "code",
   "execution_count": 341,
   "id": "ce7ee4db-e1fb-4caa-8a02-4d10a21f4876",
   "metadata": {},
   "outputs": [
    {
     "data": {
      "text/plain": [
       "0.8552"
      ]
     },
     "execution_count": 341,
     "metadata": {},
     "output_type": "execute_result"
    }
   ],
   "source": [
    "# Accuracy\n",
    "rf_accuracy = accuracy_score(y_test, y_pred)\n",
    "rf_accuracy"
   ]
  },
  {
   "cell_type": "code",
   "execution_count": 342,
   "id": "f9a6ceaf-5f31-42d5-b7c6-b75ef1221c0f",
   "metadata": {},
   "outputs": [
    {
     "data": {
      "text/plain": [
       "0.8486749999999998"
      ]
     },
     "execution_count": 342,
     "metadata": {},
     "output_type": "execute_result"
    }
   ],
   "source": [
    "# Perform 5-fold cross-validation\n",
    "rf_cv_scores = cross_val_score(rf, X_train, y_train, cv=5, scoring='accuracy')\n",
    "rf_cv_scores.mean()"
   ]
  },
  {
   "cell_type": "code",
   "execution_count": 343,
   "id": "cc5dbb64-4a74-457a-a086-79c631353104",
   "metadata": {},
   "outputs": [
    {
     "data": {
      "text/plain": [
       "0.7810902891985148"
      ]
     },
     "execution_count": 343,
     "metadata": {},
     "output_type": "execute_result"
    }
   ],
   "source": [
    "# Trade-off between true positive rate (recall) and false positive rate\n",
    "rf_roc_auc = roc_auc_score(y_test, rf.predict_proba(X_test)[:, 1])\n",
    "rf_roc_auc"
   ]
  },
  {
   "cell_type": "code",
   "execution_count": 344,
   "id": "973425b0-3061-4e9c-83a6-af7e7aacd35d",
   "metadata": {},
   "outputs": [
    {
     "data": {
      "text/html": [
       "<div>\n",
       "<style scoped>\n",
       "    .dataframe tbody tr th:only-of-type {\n",
       "        vertical-align: middle;\n",
       "    }\n",
       "\n",
       "    .dataframe tbody tr th {\n",
       "        vertical-align: top;\n",
       "    }\n",
       "\n",
       "    .dataframe thead th {\n",
       "        text-align: right;\n",
       "    }\n",
       "</style>\n",
       "<table border=\"1\" class=\"dataframe\">\n",
       "  <thead>\n",
       "    <tr style=\"text-align: right;\">\n",
       "      <th></th>\n",
       "      <th>precision</th>\n",
       "      <th>recall</th>\n",
       "      <th>f1-score</th>\n",
       "      <th>support</th>\n",
       "    </tr>\n",
       "  </thead>\n",
       "  <tbody>\n",
       "    <tr>\n",
       "      <th>0</th>\n",
       "      <td>0.869901</td>\n",
       "      <td>0.976461</td>\n",
       "      <td>0.920106</td>\n",
       "      <td>8539.0000</td>\n",
       "    </tr>\n",
       "    <tr>\n",
       "      <th>1</th>\n",
       "      <td>0.515663</td>\n",
       "      <td>0.146475</td>\n",
       "      <td>0.228145</td>\n",
       "      <td>1461.0000</td>\n",
       "    </tr>\n",
       "    <tr>\n",
       "      <th>accuracy</th>\n",
       "      <td>0.855200</td>\n",
       "      <td>0.855200</td>\n",
       "      <td>0.855200</td>\n",
       "      <td>0.8552</td>\n",
       "    </tr>\n",
       "    <tr>\n",
       "      <th>macro avg</th>\n",
       "      <td>0.692782</td>\n",
       "      <td>0.561468</td>\n",
       "      <td>0.574125</td>\n",
       "      <td>10000.0000</td>\n",
       "    </tr>\n",
       "    <tr>\n",
       "      <th>weighted avg</th>\n",
       "      <td>0.818147</td>\n",
       "      <td>0.855200</td>\n",
       "      <td>0.819010</td>\n",
       "      <td>10000.0000</td>\n",
       "    </tr>\n",
       "  </tbody>\n",
       "</table>\n",
       "</div>"
      ],
      "text/plain": [
       "              precision    recall  f1-score     support\n",
       "0              0.869901  0.976461  0.920106   8539.0000\n",
       "1              0.515663  0.146475  0.228145   1461.0000\n",
       "accuracy       0.855200  0.855200  0.855200      0.8552\n",
       "macro avg      0.692782  0.561468  0.574125  10000.0000\n",
       "weighted avg   0.818147  0.855200  0.819010  10000.0000"
      ]
     },
     "execution_count": 344,
     "metadata": {},
     "output_type": "execute_result"
    }
   ],
   "source": [
    "rf_report = classification_report(y_test, y_pred, output_dict=True) # Return dict to transform into dataframe\n",
    "rf_report = pd.DataFrame(rf_report).T\n",
    "rf_report"
   ]
  },
  {
   "cell_type": "markdown",
   "id": "f46207d3-92c1-4ce9-9554-7d37c16802be",
   "metadata": {},
   "source": [
    "### Model 3 : Random forest classifier with top 20 features (Balanced)"
   ]
  },
  {
   "cell_type": "code",
   "execution_count": 345,
   "id": "ef371417-4995-446c-812c-9334c574208a",
   "metadata": {},
   "outputs": [],
   "source": [
    "X_train, X_test, y_train, y_test = train_test_split(X, y, test_size=0.2, random_state=2202)\n",
    "features = list(mi_df_20.feature.values)\n",
    "smote = SMOTE(random_state=2202)\n",
    "X_train_resampled, y_train_resampled = smote.fit_resample(X_train[features], y_train)"
   ]
  },
  {
   "cell_type": "code",
   "execution_count": 346,
   "id": "6d0a07e7-b831-4027-b714-98e5d33ee1a6",
   "metadata": {},
   "outputs": [],
   "source": [
    "# Random forest classifer\n",
    "rf_20_bl = RandomForestClassifier(n_estimators = 100, random_state= 2202)\n",
    "rf_20_bl.fit(X_train_resampled, y_train_resampled)\n",
    "y_pred = rf_20_bl.predict(X_test[features])"
   ]
  },
  {
   "cell_type": "code",
   "execution_count": 347,
   "id": "c1b19fc7-e288-404f-8ea6-357220d4a225",
   "metadata": {},
   "outputs": [
    {
     "data": {
      "text/plain": [
       "0.7606"
      ]
     },
     "execution_count": 347,
     "metadata": {},
     "output_type": "execute_result"
    }
   ],
   "source": [
    "# Accuracy\n",
    "rf_20_bl_accuracy = accuracy_score(y_test, y_pred)\n",
    "rf_20_bl_accuracy"
   ]
  },
  {
   "cell_type": "code",
   "execution_count": 348,
   "id": "56ffad48-21c8-4f7c-8b04-8153b29915a2",
   "metadata": {},
   "outputs": [
    {
     "data": {
      "text/plain": [
       "0.8217000000000001"
      ]
     },
     "execution_count": 348,
     "metadata": {},
     "output_type": "execute_result"
    }
   ],
   "source": [
    "# Perform 5-fold cross-validation\n",
    "rf_20_bl_cv_scores = cross_val_score(rf_20_bl, X_train[features], y_train, cv=5, scoring='accuracy')\n",
    "rf_20_bl_cv_scores.mean()"
   ]
  },
  {
   "cell_type": "code",
   "execution_count": 349,
   "id": "2ea0d660-6fd6-49a9-b66a-97c07c89aba1",
   "metadata": {},
   "outputs": [
    {
     "data": {
      "text/plain": [
       "0.665138068045323"
      ]
     },
     "execution_count": 349,
     "metadata": {},
     "output_type": "execute_result"
    }
   ],
   "source": [
    "# Trade-off between true positive rate (recall) and false positive rate\n",
    "rf_20_bl_roc_auc = roc_auc_score(y_test, rf_20_bl.predict_proba(X_test[features])[:, 1])\n",
    "rf_20_bl_roc_auc"
   ]
  },
  {
   "cell_type": "code",
   "execution_count": 350,
   "id": "d2a3e43d-4f5c-4cb4-ab06-dbcf2bd2c43a",
   "metadata": {},
   "outputs": [
    {
     "data": {
      "text/html": [
       "<div>\n",
       "<style scoped>\n",
       "    .dataframe tbody tr th:only-of-type {\n",
       "        vertical-align: middle;\n",
       "    }\n",
       "\n",
       "    .dataframe tbody tr th {\n",
       "        vertical-align: top;\n",
       "    }\n",
       "\n",
       "    .dataframe thead th {\n",
       "        text-align: right;\n",
       "    }\n",
       "</style>\n",
       "<table border=\"1\" class=\"dataframe\">\n",
       "  <thead>\n",
       "    <tr style=\"text-align: right;\">\n",
       "      <th></th>\n",
       "      <th>precision</th>\n",
       "      <th>recall</th>\n",
       "      <th>f1-score</th>\n",
       "      <th>support</th>\n",
       "    </tr>\n",
       "  </thead>\n",
       "  <tbody>\n",
       "    <tr>\n",
       "      <th>0</th>\n",
       "      <td>0.885073</td>\n",
       "      <td>0.827029</td>\n",
       "      <td>0.855067</td>\n",
       "      <td>8539.0000</td>\n",
       "    </tr>\n",
       "    <tr>\n",
       "      <th>1</th>\n",
       "      <td>0.269174</td>\n",
       "      <td>0.372348</td>\n",
       "      <td>0.312464</td>\n",
       "      <td>1461.0000</td>\n",
       "    </tr>\n",
       "    <tr>\n",
       "      <th>accuracy</th>\n",
       "      <td>0.760600</td>\n",
       "      <td>0.760600</td>\n",
       "      <td>0.760600</td>\n",
       "      <td>0.7606</td>\n",
       "    </tr>\n",
       "    <tr>\n",
       "      <th>macro avg</th>\n",
       "      <td>0.577123</td>\n",
       "      <td>0.599688</td>\n",
       "      <td>0.583766</td>\n",
       "      <td>10000.0000</td>\n",
       "    </tr>\n",
       "    <tr>\n",
       "      <th>weighted avg</th>\n",
       "      <td>0.795090</td>\n",
       "      <td>0.760600</td>\n",
       "      <td>0.775793</td>\n",
       "      <td>10000.0000</td>\n",
       "    </tr>\n",
       "  </tbody>\n",
       "</table>\n",
       "</div>"
      ],
      "text/plain": [
       "              precision    recall  f1-score     support\n",
       "0              0.885073  0.827029  0.855067   8539.0000\n",
       "1              0.269174  0.372348  0.312464   1461.0000\n",
       "accuracy       0.760600  0.760600  0.760600      0.7606\n",
       "macro avg      0.577123  0.599688  0.583766  10000.0000\n",
       "weighted avg   0.795090  0.760600  0.775793  10000.0000"
      ]
     },
     "execution_count": 350,
     "metadata": {},
     "output_type": "execute_result"
    }
   ],
   "source": [
    "rf_20_bl_report = classification_report(y_test, y_pred, output_dict=True) # Return dict to transform into dataframe\n",
    "rf_20_bl_report = pd.DataFrame(rf_20_bl_report).T\n",
    "rf_20_bl_report"
   ]
  },
  {
   "cell_type": "markdown",
   "id": "2b1ab7c0-9fee-4dc1-8f1c-b223d80a1296",
   "metadata": {},
   "source": [
    "### Model 4 : Random forest classifier with all features (Balanced)"
   ]
  },
  {
   "cell_type": "code",
   "execution_count": 458,
   "id": "a32362ea-d2a2-4862-8f8e-52952d0c3e1c",
   "metadata": {},
   "outputs": [],
   "source": [
    "X_train, X_test, y_train, y_test = train_test_split(X, y, test_size=0.2, random_state=2202)\n",
    "smote = SMOTE(random_state=2202)\n",
    "X_train_resampled, y_train_resampled = smote.fit_resample(X_train, y_train)"
   ]
  },
  {
   "cell_type": "code",
   "execution_count": 459,
   "id": "f12295f9-a382-4286-b14c-71a18e48097e",
   "metadata": {},
   "outputs": [],
   "source": [
    "# Random forest classifer\n",
    "rf_bl = RandomForestClassifier(n_estimators = 100, random_state= 2202, class_weight='balanced')\n",
    "rf_bl.fit(X_train_resampled, y_train_resampled)\n",
    "y_pred = rf_bl.predict(X_test)"
   ]
  },
  {
   "cell_type": "code",
   "execution_count": 460,
   "id": "67b2c451-474d-48e0-8846-f6dcd189ca4c",
   "metadata": {},
   "outputs": [
    {
     "data": {
      "text/plain": [
       "0.8439"
      ]
     },
     "execution_count": 460,
     "metadata": {},
     "output_type": "execute_result"
    }
   ],
   "source": [
    "# Accuracy\n",
    "rf_bl_accuracy = accuracy_score(y_test, y_pred)\n",
    "rf_bl_accuracy"
   ]
  },
  {
   "cell_type": "code",
   "execution_count": 461,
   "id": "514f9bb8-200a-4a7a-8538-7436cd91e72b",
   "metadata": {},
   "outputs": [
    {
     "data": {
      "text/plain": [
       "0.849475"
      ]
     },
     "execution_count": 461,
     "metadata": {},
     "output_type": "execute_result"
    }
   ],
   "source": [
    "# Perform 5-fold cross-validation\n",
    "rf_bl_cv_scores = cross_val_score(rf_bl, X_train, y_train, cv=5, scoring='accuracy')\n",
    "rf_bl_cv_scores.mean()"
   ]
  },
  {
   "cell_type": "code",
   "execution_count": 462,
   "id": "da1b7ec3-628f-4abd-a4e7-a98ec701315e",
   "metadata": {},
   "outputs": [
    {
     "data": {
      "text/plain": [
       "0.7796880584705403"
      ]
     },
     "execution_count": 462,
     "metadata": {},
     "output_type": "execute_result"
    }
   ],
   "source": [
    "# Trade-off between true positive rate (recall) and false positive rate\n",
    "rf_bl_roc_auc = roc_auc_score(y_test, rf_bl.predict_proba(X_test)[:, 1])\n",
    "rf_bl_roc_auc"
   ]
  },
  {
   "cell_type": "code",
   "execution_count": 463,
   "id": "796b0a20-67e9-498f-831f-60a74bd364f9",
   "metadata": {},
   "outputs": [
    {
     "data": {
      "text/html": [
       "<div>\n",
       "<style scoped>\n",
       "    .dataframe tbody tr th:only-of-type {\n",
       "        vertical-align: middle;\n",
       "    }\n",
       "\n",
       "    .dataframe tbody tr th {\n",
       "        vertical-align: top;\n",
       "    }\n",
       "\n",
       "    .dataframe thead th {\n",
       "        text-align: right;\n",
       "    }\n",
       "</style>\n",
       "<table border=\"1\" class=\"dataframe\">\n",
       "  <thead>\n",
       "    <tr style=\"text-align: right;\">\n",
       "      <th></th>\n",
       "      <th>precision</th>\n",
       "      <th>recall</th>\n",
       "      <th>f1-score</th>\n",
       "      <th>support</th>\n",
       "    </tr>\n",
       "  </thead>\n",
       "  <tbody>\n",
       "    <tr>\n",
       "      <th>0</th>\n",
       "      <td>0.879322</td>\n",
       "      <td>0.947184</td>\n",
       "      <td>0.911992</td>\n",
       "      <td>8539.0000</td>\n",
       "    </tr>\n",
       "    <tr>\n",
       "      <th>1</th>\n",
       "      <td>0.437656</td>\n",
       "      <td>0.240246</td>\n",
       "      <td>0.310208</td>\n",
       "      <td>1461.0000</td>\n",
       "    </tr>\n",
       "    <tr>\n",
       "      <th>accuracy</th>\n",
       "      <td>0.843900</td>\n",
       "      <td>0.843900</td>\n",
       "      <td>0.843900</td>\n",
       "      <td>0.8439</td>\n",
       "    </tr>\n",
       "    <tr>\n",
       "      <th>macro avg</th>\n",
       "      <td>0.658489</td>\n",
       "      <td>0.593715</td>\n",
       "      <td>0.611100</td>\n",
       "      <td>10000.0000</td>\n",
       "    </tr>\n",
       "    <tr>\n",
       "      <th>weighted avg</th>\n",
       "      <td>0.814794</td>\n",
       "      <td>0.843900</td>\n",
       "      <td>0.824071</td>\n",
       "      <td>10000.0000</td>\n",
       "    </tr>\n",
       "  </tbody>\n",
       "</table>\n",
       "</div>"
      ],
      "text/plain": [
       "              precision    recall  f1-score     support\n",
       "0              0.879322  0.947184  0.911992   8539.0000\n",
       "1              0.437656  0.240246  0.310208   1461.0000\n",
       "accuracy       0.843900  0.843900  0.843900      0.8439\n",
       "macro avg      0.658489  0.593715  0.611100  10000.0000\n",
       "weighted avg   0.814794  0.843900  0.824071  10000.0000"
      ]
     },
     "execution_count": 463,
     "metadata": {},
     "output_type": "execute_result"
    }
   ],
   "source": [
    "rf_bl_report = classification_report(y_test, y_pred, output_dict=True) # Return dict to transform into dataframe\n",
    "rf_bl_report = pd.DataFrame(rf_bl_report).T\n",
    "rf_bl_report"
   ]
  },
  {
   "cell_type": "code",
   "execution_count": null,
   "id": "c73553b1-acd4-4095-82a3-e224c26294ce",
   "metadata": {},
   "outputs": [],
   "source": []
  },
  {
   "cell_type": "code",
   "execution_count": 464,
   "id": "e846e9d5-e4bd-453c-ba15-0e8d503b8576",
   "metadata": {},
   "outputs": [
    {
     "data": {
      "image/png": "[encoded data removed]",
      "text/plain": [
       "<Figure size 800x600 with 1 Axes>"
      ]
     },
     "metadata": {},
     "output_type": "display_data"
    }
   ],
   "source": [
    "cm = confusion_matrix(y_test, y_pred)\n",
    "# Create a heatmap of the confusion matrix\n",
    "plt.figure(figsize=(8, 6))\n",
    "sns.heatmap(cm, annot=True, fmt='d', cmap='Blues', cbar=False, \n",
    "            xticklabels=['Predicted Negative', 'Predicted Positive'], \n",
    "            yticklabels=['Actual Negative', 'Actual Positive'])\n",
    "\n",
    "plt.title('Confusion Matrix Heatmap')\n",
    "plt.xlabel('Predicted')\n",
    "plt.ylabel('True')\n",
    "\n",
    "# Save the image after the plot is shown\n",
    "fig = plt.gcf()  # Get the current figure\n",
    "fig.savefig(\"Confusion Matrix.jpg\", format='jpg')\n",
    "\n",
    "plt.show()"
   ]
  },
  {
   "cell_type": "code",
   "execution_count": 446,
   "id": "689c3db8-6a90-4e20-a77b-f5ee3f20f3ff",
   "metadata": {},
   "outputs": [
    {
     "data": {
      "image/png": "[encoded data removed]",
      "text/plain": [
       "<Figure size 1000x600 with 1 Axes>"
      ]
     },
     "metadata": {},
     "output_type": "display_data"
    }
   ],
   "source": [
    "importances = rf_bl.feature_importances_\n",
    "# Create a DataFrame for better readability\n",
    "feature_importances = pd.DataFrame({\n",
    "    'Feature': X_train_resampled.columns,\n",
    "    'Importance': importances\n",
    "}).sort_values(by='Importance', ascending=False).head(20)\n",
    "\n",
    "# Plot\n",
    "plt.figure(figsize=(10, 6))\n",
    "plt.barh(feature_importances['Feature'], feature_importances['Importance'], color='#075aaa')\n",
    "plt.xlabel('Importance Score')\n",
    "plt.ylabel('Features')\n",
    "plt.title('Feature Importances in Random Forest')\n",
    "plt.gca().invert_yaxis()\n",
    "plt.tight_layout()\n",
    "# Save the image after the plot is shown\n",
    "fig = plt.gcf()  # Get the current figure\n",
    "fig.savefig(\"Feature Importances.jpg\", format='jpg')\n",
    "\n",
    "plt.show()"
   ]
  },
  {
   "cell_type": "code",
   "execution_count": null,
   "id": "3cda195e-bd6a-4427-96e4-0bbf13f7c0b9",
   "metadata": {},
   "outputs": [],
   "source": []
  },
  {
   "cell_type": "markdown",
   "id": "bf84ae27-2f12-4a0a-b231-b5195bf0712d",
   "metadata": {},
   "source": [
    "Based on the four models above, utilizing all features results in higher scores across all metrics. Balancing the data improves the prediction of customers who did not complete their booking, though it slightly reduces overall accuracy. Since the goal is to predict customers who fail to complete their booking, Model 4 appears to be the most suitable for this task."
   ]
  },
  {
   "cell_type": "code",
   "execution_count": null,
   "id": "1f2004d8-42cb-40b9-9aa8-61ce8c69b91a",
   "metadata": {},
   "outputs": [],
   "source": [
    "#"
   ]
  },
  {
   "cell_type": "markdown",
   "id": "704fae45-6dfd-45bf-8003-af49369d5a7d",
   "metadata": {},
   "source": [
    "### Model 5 : XGBoost with all features"
   ]
  },
  {
   "cell_type": "code",
   "execution_count": 454,
   "id": "8eefee6e-4a0a-4e21-8a93-ca043ce40e69",
   "metadata": {},
   "outputs": [],
   "source": [
    "X_train, X_test, y_train, y_test = train_test_split(X, y, test_size=0.2, random_state=2202)"
   ]
  },
  {
   "cell_type": "code",
   "execution_count": 455,
   "id": "d90dec0e-b715-4f75-83aa-ebd979abdd45",
   "metadata": {},
   "outputs": [],
   "source": [
    "# Calculate scale_pos_weight\n",
    "neg, pos = y_train.value_counts()\n",
    "scale_pos_weight = neg / pos"
   ]
  },
  {
   "cell_type": "code",
   "execution_count": 456,
   "id": "c2ceea3b-7d4a-4891-9963-bfb0453291d9",
   "metadata": {},
   "outputs": [],
   "source": [
    "model = xgb.XGBClassifier(scale_pos_weight=scale_pos_weight, eval_metric='logloss')\n",
    "model.fit(X_train, y_train)\n",
    "y_pred = model.predict(X_test)"
   ]
  },
  {
   "cell_type": "code",
   "execution_count": 414,
   "id": "ebf975e3-7033-4c4f-a15a-bba4e8de5e89",
   "metadata": {},
   "outputs": [
    {
     "data": {
      "text/plain": [
       "0.7029"
      ]
     },
     "execution_count": 414,
     "metadata": {},
     "output_type": "execute_result"
    }
   ],
   "source": [
    "# Accuracy\n",
    "xgb_accuracy = accuracy_score(y_test, y_pred)\n",
    "xgb_accuracy"
   ]
  },
  {
   "cell_type": "code",
   "execution_count": 415,
   "id": "381fd196-4116-43fd-803f-394bce42b72c",
   "metadata": {},
   "outputs": [
    {
     "data": {
      "text/plain": [
       "0.7056250000000001"
      ]
     },
     "execution_count": 415,
     "metadata": {},
     "output_type": "execute_result"
    }
   ],
   "source": [
    "# Perform 5-fold cross-validation\n",
    "xgb_cv_scores = cross_val_score(model, X_train, y_train, cv=5, scoring='accuracy')\n",
    "xgb_cv_scores.mean()"
   ]
  },
  {
   "cell_type": "code",
   "execution_count": 416,
   "id": "0d918a99-ba9c-4b14-8d71-4397cdd15cae",
   "metadata": {},
   "outputs": [
    {
     "data": {
      "text/plain": [
       "0.7895768972077145"
      ]
     },
     "execution_count": 416,
     "metadata": {},
     "output_type": "execute_result"
    }
   ],
   "source": [
    "# Trade-off between true positive rate (recall) and false positive rate\n",
    "xgb_roc_auc = roc_auc_score(y_test, model.predict_proba(X_test)[:, 1])\n",
    "xgb_roc_auc"
   ]
  },
  {
   "cell_type": "code",
   "execution_count": 417,
   "id": "7fb921b0-3120-499a-b930-d97c04106ded",
   "metadata": {},
   "outputs": [
    {
     "data": {
      "text/html": [
       "<div>\n",
       "<style scoped>\n",
       "    .dataframe tbody tr th:only-of-type {\n",
       "        vertical-align: middle;\n",
       "    }\n",
       "\n",
       "    .dataframe tbody tr th {\n",
       "        vertical-align: top;\n",
       "    }\n",
       "\n",
       "    .dataframe thead th {\n",
       "        text-align: right;\n",
       "    }\n",
       "</style>\n",
       "<table border=\"1\" class=\"dataframe\">\n",
       "  <thead>\n",
       "    <tr style=\"text-align: right;\">\n",
       "      <th></th>\n",
       "      <th>precision</th>\n",
       "      <th>recall</th>\n",
       "      <th>f1-score</th>\n",
       "      <th>support</th>\n",
       "    </tr>\n",
       "  </thead>\n",
       "  <tbody>\n",
       "    <tr>\n",
       "      <th>0</th>\n",
       "      <td>0.941624</td>\n",
       "      <td>0.695163</td>\n",
       "      <td>0.799838</td>\n",
       "      <td>8539.0000</td>\n",
       "    </tr>\n",
       "    <tr>\n",
       "      <th>1</th>\n",
       "      <td>0.295725</td>\n",
       "      <td>0.748118</td>\n",
       "      <td>0.423890</td>\n",
       "      <td>1461.0000</td>\n",
       "    </tr>\n",
       "    <tr>\n",
       "      <th>accuracy</th>\n",
       "      <td>0.702900</td>\n",
       "      <td>0.702900</td>\n",
       "      <td>0.702900</td>\n",
       "      <td>0.7029</td>\n",
       "    </tr>\n",
       "    <tr>\n",
       "      <th>macro avg</th>\n",
       "      <td>0.618675</td>\n",
       "      <td>0.721641</td>\n",
       "      <td>0.611864</td>\n",
       "      <td>10000.0000</td>\n",
       "    </tr>\n",
       "    <tr>\n",
       "      <th>weighted avg</th>\n",
       "      <td>0.847258</td>\n",
       "      <td>0.702900</td>\n",
       "      <td>0.744912</td>\n",
       "      <td>10000.0000</td>\n",
       "    </tr>\n",
       "  </tbody>\n",
       "</table>\n",
       "</div>"
      ],
      "text/plain": [
       "              precision    recall  f1-score     support\n",
       "0              0.941624  0.695163  0.799838   8539.0000\n",
       "1              0.295725  0.748118  0.423890   1461.0000\n",
       "accuracy       0.702900  0.702900  0.702900      0.7029\n",
       "macro avg      0.618675  0.721641  0.611864  10000.0000\n",
       "weighted avg   0.847258  0.702900  0.744912  10000.0000"
      ]
     },
     "execution_count": 417,
     "metadata": {},
     "output_type": "execute_result"
    }
   ],
   "source": [
    "xgb_report = classification_report(y_test, y_pred, output_dict=True) # Return dict to transform into dataframe\n",
    "xgb_report = pd.DataFrame(xgb_report).T\n",
    "xgb_report"
   ]
  },
  {
   "cell_type": "code",
   "execution_count": 457,
   "id": "00570c5e-db2e-460a-994b-2d889a8abb94",
   "metadata": {},
   "outputs": [
    {
     "data": {
      "image/png": "[encoded data removed]",
      "text/plain": [
       "<Figure size 800x600 with 1 Axes>"
      ]
     },
     "metadata": {},
     "output_type": "display_data"
    }
   ],
   "source": [
    "cm = confusion_matrix(y_test, y_pred)\n",
    "# Create a heatmap of the confusion matrix\n",
    "plt.figure(figsize=(8, 6))\n",
    "sns.heatmap(cm, annot=True, fmt='d', cmap='Blues', cbar=False, \n",
    "            xticklabels=['Predicted Negative', 'Predicted Positive'], \n",
    "            yticklabels=['Actual Negative', 'Actual Positive'])\n",
    "\n",
    "plt.title('Confusion Matrix Heatmap')\n",
    "plt.xlabel('Predicted')\n",
    "plt.ylabel('True')\n",
    "\n",
    "# Save the image after the plot is shown\n",
    "fig = plt.gcf()  # Get the current figure\n",
    "fig.savefig(\"Confusion Matrix.jpg\", format='jpg')\n",
    "\n",
    "plt.show()"
   ]
  },
  {
   "cell_type": "markdown",
   "id": "d13c99db-166c-47af-9f4b-544656dd0dcc",
   "metadata": {},
   "source": [
    "Model 5 outperforms Model 4 in recall and F1-score for Case 1, but has a lower precision score and accuracy. The choice between models depends on which metric is prioritized."
   ]
  },
  {
   "cell_type": "markdown",
   "id": "109ca6cf-b988-4c0e-a6eb-b457d28d29a1",
   "metadata": {},
   "source": [
    "### Summary"
   ]
  },
  {
   "cell_type": "code",
   "execution_count": 419,
   "id": "2805687b-5f30-4318-85c9-9dac77151d7f",
   "metadata": {},
   "outputs": [
    {
     "data": {
      "text/html": [
       "<div>\n",
       "<style scoped>\n",
       "    .dataframe tbody tr th:only-of-type {\n",
       "        vertical-align: middle;\n",
       "    }\n",
       "\n",
       "    .dataframe tbody tr th {\n",
       "        vertical-align: top;\n",
       "    }\n",
       "\n",
       "    .dataframe thead th {\n",
       "        text-align: right;\n",
       "    }\n",
       "</style>\n",
       "<table border=\"1\" class=\"dataframe\">\n",
       "  <thead>\n",
       "    <tr style=\"text-align: right;\">\n",
       "      <th></th>\n",
       "      <th>Model</th>\n",
       "      <th>Accuracy</th>\n",
       "      <th>Cross-Validation Accuracy</th>\n",
       "      <th>Testing AUC</th>\n",
       "    </tr>\n",
       "  </thead>\n",
       "  <tbody>\n",
       "    <tr>\n",
       "      <th>0</th>\n",
       "      <td>Random Forest 20 Unbalanced</td>\n",
       "      <td>0.8290</td>\n",
       "      <td>0.821700</td>\n",
       "      <td>0.679873</td>\n",
       "    </tr>\n",
       "    <tr>\n",
       "      <th>1</th>\n",
       "      <td>Random Forest All Unbalanced</td>\n",
       "      <td>0.8552</td>\n",
       "      <td>0.848675</td>\n",
       "      <td>0.781090</td>\n",
       "    </tr>\n",
       "    <tr>\n",
       "      <th>2</th>\n",
       "      <td>Random Forest 20 Balanced</td>\n",
       "      <td>0.7606</td>\n",
       "      <td>0.821700</td>\n",
       "      <td>0.665138</td>\n",
       "    </tr>\n",
       "    <tr>\n",
       "      <th>3</th>\n",
       "      <td>Random Forests All Balanced</td>\n",
       "      <td>0.8439</td>\n",
       "      <td>0.848675</td>\n",
       "      <td>0.779688</td>\n",
       "    </tr>\n",
       "    <tr>\n",
       "      <th>4</th>\n",
       "      <td>XGBoost All Balanced</td>\n",
       "      <td>0.7029</td>\n",
       "      <td>0.705625</td>\n",
       "      <td>0.789577</td>\n",
       "    </tr>\n",
       "  </tbody>\n",
       "</table>\n",
       "</div>"
      ],
      "text/plain": [
       "                          Model  Accuracy  Cross-Validation Accuracy  \\\n",
       "0   Random Forest 20 Unbalanced    0.8290                   0.821700   \n",
       "1  Random Forest All Unbalanced    0.8552                   0.848675   \n",
       "2     Random Forest 20 Balanced    0.7606                   0.821700   \n",
       "3   Random Forests All Balanced    0.8439                   0.848675   \n",
       "4          XGBoost All Balanced    0.7029                   0.705625   \n",
       "\n",
       "   Testing AUC  \n",
       "0     0.679873  \n",
       "1     0.781090  \n",
       "2     0.665138  \n",
       "3     0.779688  \n",
       "4     0.789577  "
      ]
     },
     "execution_count": 419,
     "metadata": {},
     "output_type": "execute_result"
    }
   ],
   "source": [
    "summary = {'Model': ['Random Forest 20 Unbalanced', 'Random Forest All Unbalanced', 'Random Forest 20 Balanced', 'Random Forests All Balanced', 'XGBoost All Balanced'],\n",
    "           'Accuracy': [rf_20_accuracy, rf_accuracy, rf_20_bl_accuracy, rf_bl_accuracy, xgb_accuracy],\n",
    "           'Cross-Validation Accuracy': [rf_20_cv_scores.mean(), rf_cv_scores.mean(), rf_20_bl_cv_scores.mean(), rf_bl_cv_scores.mean(), xgb_cv_scores.mean()],\n",
    "           'Testing AUC' : [rf_20_roc_auc, rf_roc_auc, rf_20_bl_roc_auc, rf_bl_roc_auc, xgb_roc_auc]\n",
    "}\n",
    "summary = pd.DataFrame(summary)\n",
    "summary"
   ]
  },
  {
   "cell_type": "markdown",
   "id": "f099451f-ee4c-451c-bcc3-94b4e3adbf7c",
   "metadata": {},
   "source": [
    "### Model 6 : Balanced Random Forest Classifier with all features"
   ]
  },
  {
   "cell_type": "code",
   "execution_count": 492,
   "id": "db014eff-4af4-4bb7-9987-b6c66a63190c",
   "metadata": {},
   "outputs": [],
   "source": [
    "X_train, X_test, y_train, y_test = train_test_split(X, y, test_size=0.2, random_state=2202)"
   ]
  },
  {
   "cell_type": "code",
   "execution_count": 493,
   "id": "a6d6377d-62e3-4caf-8421-754cfb9d9a6d",
   "metadata": {},
   "outputs": [],
   "source": [
    "brf = BalancedRandomForestClassifier(n_estimators=100, min_samples_split=10, random_state=2202)\n",
    "brf.fit(X_train, y_train)\n",
    "y_pred = brf.predict(X_test)"
   ]
  },
  {
   "cell_type": "code",
   "execution_count": 494,
   "id": "14d4eae4-fe83-4764-8492-dd6443bb5fc7",
   "metadata": {},
   "outputs": [
    {
     "data": {
      "text/html": [
       "<div>\n",
       "<style scoped>\n",
       "    .dataframe tbody tr th:only-of-type {\n",
       "        vertical-align: middle;\n",
       "    }\n",
       "\n",
       "    .dataframe tbody tr th {\n",
       "        vertical-align: top;\n",
       "    }\n",
       "\n",
       "    .dataframe thead th {\n",
       "        text-align: right;\n",
       "    }\n",
       "</style>\n",
       "<table border=\"1\" class=\"dataframe\">\n",
       "  <thead>\n",
       "    <tr style=\"text-align: right;\">\n",
       "      <th></th>\n",
       "      <th>precision</th>\n",
       "      <th>recall</th>\n",
       "      <th>f1-score</th>\n",
       "      <th>support</th>\n",
       "    </tr>\n",
       "  </thead>\n",
       "  <tbody>\n",
       "    <tr>\n",
       "      <th>0</th>\n",
       "      <td>0.935565</td>\n",
       "      <td>0.743061</td>\n",
       "      <td>0.828275</td>\n",
       "      <td>8539.0000</td>\n",
       "    </tr>\n",
       "    <tr>\n",
       "      <th>1</th>\n",
       "      <td>0.318210</td>\n",
       "      <td>0.700890</td>\n",
       "      <td>0.437700</td>\n",
       "      <td>1461.0000</td>\n",
       "    </tr>\n",
       "    <tr>\n",
       "      <th>accuracy</th>\n",
       "      <td>0.736900</td>\n",
       "      <td>0.736900</td>\n",
       "      <td>0.736900</td>\n",
       "      <td>0.7369</td>\n",
       "    </tr>\n",
       "    <tr>\n",
       "      <th>macro avg</th>\n",
       "      <td>0.626887</td>\n",
       "      <td>0.721976</td>\n",
       "      <td>0.632988</td>\n",
       "      <td>10000.0000</td>\n",
       "    </tr>\n",
       "    <tr>\n",
       "      <th>weighted avg</th>\n",
       "      <td>0.845369</td>\n",
       "      <td>0.736900</td>\n",
       "      <td>0.771212</td>\n",
       "      <td>10000.0000</td>\n",
       "    </tr>\n",
       "  </tbody>\n",
       "</table>\n",
       "</div>"
      ],
      "text/plain": [
       "              precision    recall  f1-score     support\n",
       "0              0.935565  0.743061  0.828275   8539.0000\n",
       "1              0.318210  0.700890  0.437700   1461.0000\n",
       "accuracy       0.736900  0.736900  0.736900      0.7369\n",
       "macro avg      0.626887  0.721976  0.632988  10000.0000\n",
       "weighted avg   0.845369  0.736900  0.771212  10000.0000"
      ]
     },
     "execution_count": 494,
     "metadata": {},
     "output_type": "execute_result"
    }
   ],
   "source": [
    "brf_report = classification_report(y_test, y_pred, output_dict=True)\n",
    "brf_report = pd.DataFrame(brf_report).T\n",
    "brf_report"
   ]
  },
  {
   "cell_type": "code",
   "execution_count": 495,
   "id": "766d9687-1d0a-409e-90ab-d11d85a1f49b",
   "metadata": {},
   "outputs": [
    {
     "data": {
      "text/plain": [
       "0.7369"
      ]
     },
     "execution_count": 495,
     "metadata": {},
     "output_type": "execute_result"
    }
   ],
   "source": [
    "brf_accuracy = accuracy_score(y_test, y_pred)\n",
    "brf_accuracy"
   ]
  },
  {
   "cell_type": "code",
   "execution_count": 496,
   "id": "c7ad5169-e760-4f60-99a4-78a1993998da",
   "metadata": {},
   "outputs": [
    {
     "data": {
      "image/png": "[encoded data removed]",
      "text/plain": [
       "<Figure size 800x600 with 1 Axes>"
      ]
     },
     "metadata": {},
     "output_type": "display_data"
    }
   ],
   "source": [
    "cm = confusion_matrix(y_test, y_pred)\n",
    "# Create a heatmap of the confusion matrix\n",
    "plt.figure(figsize=(8, 6))\n",
    "sns.heatmap(cm, annot=True, fmt='d', cmap='Blues', cbar=False, \n",
    "            xticklabels=['Predicted Negative', 'Predicted Positive'], \n",
    "            yticklabels=['Actual Negative', 'Actual Positive'])\n",
    "\n",
    "plt.title('Confusion Matrix Heatmap')\n",
    "plt.xlabel('Predicted')\n",
    "plt.ylabel('True')\n",
    "\n",
    "# Save the image after the plot is shown\n",
    "# fig = plt.gcf()  # Get the current figure\n",
    "# fig.savefig(\"Confusion Matrix.jpg\", format='jpg')\n",
    "\n",
    "plt.show()"
   ]
  },
  {
   "cell_type": "code",
   "execution_count": null,
   "id": "d63d01d3-ee10-4306-81ea-12b82bcc7bba",
   "metadata": {},
   "outputs": [],
   "source": []
  }
 ],
 "metadata": {
  "kernelspec": {
   "display_name": "Python (datascience)",
   "language": "python",
   "name": "datascience"
  },
  "language_info": {
   "codemirror_mode": {
    "name": "ipython",
    "version": 3
   },
   "file_extension": ".py",
   "mimetype": "text/x-python",
   "name": "python",
   "nbconvert_exporter": "python",
   "pygments_lexer": "ipython3",
   "version": "3.12.8"
  }
 },
 "nbformat": 4,
 "nbformat_minor": 5
}
